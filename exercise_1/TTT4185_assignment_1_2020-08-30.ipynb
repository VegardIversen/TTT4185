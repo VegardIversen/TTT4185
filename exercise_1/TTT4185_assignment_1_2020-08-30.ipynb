{
 "cells": [
  {
   "cell_type": "markdown",
   "metadata": {},
   "source": [
    "# TTT4185 Machine learning for Speech technology\n",
    "\n",
    "## Voluntary computer assigment 1: Speech analysis\n",
    "\n",
    "This assignment assumes that the student has knowledge about short-time spectral estimation, linear prediction modeling and cepstral analysis. You should also know the concept of fundamental frequencies and formants.\n",
    "\n",
    "Useful commands include `matplotlib.pyplot.plot`."
   ]
  },
  {
   "cell_type": "markdown",
   "metadata": {},
   "source": [
    "### Problem 1\n",
    "\n",
    "In this problem we will look at a speech signal and do simple spectral analysis on the signal.\n",
    "\n",
    "(a) Download the speech file `stry.wav` from Blackboard and load the file using `scipy.io.wavefile.read`. The speech represents the latter half of the English word \"tapestry\". The phonetic transcription is /s/ /t/ /r/ /iy/.\n",
    "- Plot the signal.\n",
    "- What is characteristic about the sounds /s/, /t/, /r/ and /iy/?\n",
    "- Take a 40 millisecond subset of the vowel /iy/ and plot it.\n",
    "- Find the fundamental frequency $F_0$ of the vowel."
   ]
  },
  {
   "cell_type": "code",
   "execution_count": 4,
   "metadata": {},
   "outputs": [],
   "source": [
    "#!pip install pysptk\n",
    "import scipy.io.wavfile\n",
    "import matplotlib.pyplot as plt\n",
    "\n",
    "Fs, data = scipy.io.wavfile.read('stry.wav')"
   ]
  },
  {
   "cell_type": "markdown",
   "metadata": {},
   "source": [
    "(b) Spectral analysis\n",
    "- Estimate the spectrum of the vowel using an FFT of length 1024. Plot the log-spectrum as a function of frequency\n",
    "- Multiply the signal by a Hamming window and repeat the last operation.\n",
    "- Explain the difference between the two spectra.\n",
    "- Estimate the fundamental frequency $F_0$ using the spectrum, and compare the result to what you got in 1a)\n",
    "- Roughly estimate the two first formant frequencies.\n",
    "\n",
    "Useful Python functions: `numpy.fft.fft`, `numpy.abs`, `scipy.signal.hamming`."
   ]
  },
  {
   "cell_type": "code",
   "execution_count": 6,
   "metadata": {},
   "outputs": [
    {
     "name": "stderr",
     "output_type": "stream",
     "text": [
      "c:\\users\\vegar\\appdata\\local\\programs\\python\\python37\\lib\\site-packages\\numpy\\core\\_asarray.py:85: ComplexWarning: Casting complex values to real discards the imaginary part\n",
      "  return array(a, dtype, copy=False, order=order)\n"
     ]
    },
    {
     "data": {
      "text/plain": [
       "[<matplotlib.lines.Line2D at 0x14ddf600f08>]"
      ]
     },
     "execution_count": 6,
     "metadata": {},
     "output_type": "execute_result"
    },
    {
     "data": {
      "image/png": "[encoded data removed]",
      "text/plain": [
       "<Figure size 432x288 with 1 Axes>"
      ]
     },
     "metadata": {
      "needs_background": "light"
     },
     "output_type": "display_data"
    }
   ],
   "source": [
    "import numpy as np\n",
    "import scipy.signal as si\n",
    "\n",
    "data_fft = np.fft.fft(data,1024)\n",
    "\n",
    "plt.plot(np.log(data_fft))\n"
   ]
  },
  {
   "cell_type": "markdown",
   "metadata": {},
   "source": [
    "(c) AR modeling\n",
    "- Compute the coefficients of an AR model (linear prediction coefficients) with order 4, 8, 16 and 50, based on the vowel.\n",
    "- Estimate the spectrum for each of the model orders. Plot the log-spectrum as a function of frequency.\n",
    "- Compare your results with the spectrum from 1b). Which model order yields the \"best\" spectral envelope? What happens if the model order is too high or too low?\n",
    "- Why is it impossible to estimate the fundamental frequency based on the LP model?\n",
    "\n",
    "Useful Python functions: `pysptk.sptk.lpc`, `scipy.signal.freqz`."
   ]
  },
  {
   "cell_type": "code",
   "execution_count": null,
   "metadata": {},
   "outputs": [],
   "source": []
  },
  {
   "cell_type": "markdown",
   "metadata": {},
   "source": [
    "(d) Use `scipy.signal.spectrogram` to create a spectrogram of the entire speech signal. Try to generate both wide- and narrow-band spectrograms by adjutinf the window lengths and overlaps. Which characteristic traits of the speech sounds /s/, /t/, /r/ and /iy/ can you see from the spectrogram?"
   ]
  },
  {
   "cell_type": "code",
   "execution_count": null,
   "metadata": {},
   "outputs": [],
   "source": []
  },
  {
   "cell_type": "markdown",
   "metadata": {},
   "source": [
    "### Problem 2\n",
    "In this problem we look at the cepstrum and deconvolution\n",
    "\n",
    "(a) Compute and plot the real cepstrum of the vowel from problem 1a)."
   ]
  },
  {
   "cell_type": "code",
   "execution_count": null,
   "metadata": {},
   "outputs": [],
   "source": []
  },
  {
   "cell_type": "markdown",
   "metadata": {},
   "source": [
    "(b) Use the cepstrum to compute the fundamental frequency $F_0$. Compare your results with those obtained in problem 1)."
   ]
  },
  {
   "cell_type": "code",
   "execution_count": null,
   "metadata": {},
   "outputs": [],
   "source": []
  },
  {
   "cell_type": "markdown",
   "metadata": {},
   "source": [
    "(c) In this subproblem you will use the cepstrum to estimate the spectral envelope\n",
    "- Use liftering to extract the part of the ceptrum that represents the spectral envelope.\n",
    "- Plot the spectral envelope as a function of frequency, and compare the result with the results from problem 1).\n",
    "\n",
    "Hint 1: Remember that the cepstrum of a real signal is symmetric, so the liftered signal mus be symmetric as well.\n",
    "\n",
    "Hint 2: The FFT of a real, symmtric signal is real, but due to round-off errors small imaginary noise may occur. Use `np.real` to get to the real part of the liftered log-spectrum."
   ]
  },
  {
   "cell_type": "code",
   "execution_count": null,
   "metadata": {},
   "outputs": [],
   "source": []
  }
 ],
 "metadata": {
  "jupytext": {
   "formats": "ipynb,py:light"
  },
  "kernelspec": {
   "display_name": "Python 3",
   "language": "python",
   "name": "python3"
  },
  "language_info": {
   "codemirror_mode": {
    "name": "ipython",
    "version": 3
   },
   "file_extension": ".py",
   "mimetype": "text/x-python",
   "name": "python",
   "nbconvert_exporter": "python",
   "pygments_lexer": "ipython3",
   "version": "3.7.4"
  }
 },
 "nbformat": 4,
 "nbformat_minor": 4
}
